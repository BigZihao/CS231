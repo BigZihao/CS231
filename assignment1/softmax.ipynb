{
 "cells": [
  {
   "cell_type": "markdown",
   "metadata": {},
   "source": [
    "# Softmax exercise\n",
    "\n",
    "*Complete and hand in this completed worksheet (including its outputs and any supporting code outside of the worksheet) with your assignment submission. For more details see the [assignments page](http://vision.stanford.edu/teaching/cs231n/assignments.html) on the course website.*\n",
    "\n",
    "This exercise is analogous to the SVM exercise. You will:\n",
    "\n",
    "- implement a fully-vectorized **loss function** for the Softmax classifier\n",
    "- implement the fully-vectorized expression for its **analytic gradient**\n",
    "- **check your implementation** with numerical gradient\n",
    "- use a validation set to **tune the learning rate and regularization** strength\n",
    "- **optimize** the loss function with **SGD**\n",
    "- **visualize** the final learned weights\n"
   ]
  },
  {
   "cell_type": "code",
   "execution_count": 2,
   "metadata": {
    "collapsed": false
   },
   "outputs": [
    {
     "name": "stdout",
     "output_type": "stream",
     "text": [
      "The autoreload extension is already loaded. To reload it, use:\n",
      "  %reload_ext autoreload\n"
     ]
    }
   ],
   "source": [
    "import random\n",
    "import numpy as np\n",
    "from cs231n.data_utils import load_CIFAR10\n",
    "import matplotlib.pyplot as plt\n",
    "\n",
    "from __future__ import print_function\n",
    "\n",
    "%matplotlib inline\n",
    "plt.rcParams['figure.figsize'] = (10.0, 8.0) # set default size of plots\n",
    "plt.rcParams['image.interpolation'] = 'nearest'\n",
    "plt.rcParams['image.cmap'] = 'gray'\n",
    "\n",
    "# for auto-reloading extenrnal modules\n",
    "# see http://stackoverflow.com/questions/1907993/autoreload-of-modules-in-ipython\n",
    "%load_ext autoreload\n",
    "%autoreload 2"
   ]
  },
  {
   "cell_type": "code",
   "execution_count": 3,
   "metadata": {
    "collapsed": false
   },
   "outputs": [
    {
     "name": "stdout",
     "output_type": "stream",
     "text": [
      "Train data shape:  (49000, 3073)\n",
      "Train labels shape:  (49000,)\n",
      "Validation data shape:  (1000, 3073)\n",
      "Validation labels shape:  (1000,)\n",
      "Test data shape:  (1000, 3073)\n",
      "Test labels shape:  (1000,)\n",
      "dev data shape:  (500, 3073)\n",
      "dev labels shape:  (500,)\n"
     ]
    }
   ],
   "source": [
    "def get_CIFAR10_data(num_training=49000, num_validation=1000, num_test=1000, num_dev=500):\n",
    "    \"\"\"\n",
    "    Load the CIFAR-10 dataset from disk and perform preprocessing to prepare\n",
    "    it for the linear classifier. These are the same steps as we used for the\n",
    "    SVM, but condensed to a single function.  \n",
    "    \"\"\"\n",
    "    # Load the raw CIFAR-10 data\n",
    "    cifar10_dir = 'cs231n/datasets/cifar-10-batches-py'\n",
    "    X_train, y_train, X_test, y_test = load_CIFAR10(cifar10_dir)\n",
    "    \n",
    "    # subsample the data\n",
    "    mask = list(range(num_training, num_training + num_validation))\n",
    "    X_val = X_train[mask]\n",
    "    y_val = y_train[mask]\n",
    "    mask = list(range(num_training))\n",
    "    X_train = X_train[mask]\n",
    "    y_train = y_train[mask]\n",
    "    mask = list(range(num_test))\n",
    "    X_test = X_test[mask]\n",
    "    y_test = y_test[mask]\n",
    "    mask = np.random.choice(num_training, num_dev, replace=False)\n",
    "    X_dev = X_train[mask]\n",
    "    y_dev = y_train[mask]\n",
    "    \n",
    "    # Preprocessing: reshape the image data into rows\n",
    "    X_train = np.reshape(X_train, (X_train.shape[0], -1))\n",
    "    X_val = np.reshape(X_val, (X_val.shape[0], -1))\n",
    "    X_test = np.reshape(X_test, (X_test.shape[0], -1))\n",
    "    X_dev = np.reshape(X_dev, (X_dev.shape[0], -1))\n",
    "    \n",
    "    # Normalize the data: subtract the mean image\n",
    "    mean_image = np.mean(X_train, axis = 0)\n",
    "    X_train -= mean_image\n",
    "    X_val -= mean_image\n",
    "    X_test -= mean_image\n",
    "    X_dev -= mean_image\n",
    "    \n",
    "    # add bias dimension and transform into columns\n",
    "    X_train = np.hstack([X_train, np.ones((X_train.shape[0], 1))])\n",
    "    X_val = np.hstack([X_val, np.ones((X_val.shape[0], 1))])\n",
    "    X_test = np.hstack([X_test, np.ones((X_test.shape[0], 1))])\n",
    "    X_dev = np.hstack([X_dev, np.ones((X_dev.shape[0], 1))])\n",
    "    \n",
    "    return X_train, y_train, X_val, y_val, X_test, y_test, X_dev, y_dev\n",
    "\n",
    "\n",
    "# Invoke the above function to get our data.\n",
    "X_train, y_train, X_val, y_val, X_test, y_test, X_dev, y_dev = get_CIFAR10_data()\n",
    "print('Train data shape: ', X_train.shape)\n",
    "print('Train labels shape: ', y_train.shape)\n",
    "print('Validation data shape: ', X_val.shape)\n",
    "print('Validation labels shape: ', y_val.shape)\n",
    "print('Test data shape: ', X_test.shape)\n",
    "print('Test labels shape: ', y_test.shape)\n",
    "print('dev data shape: ', X_dev.shape)\n",
    "print('dev labels shape: ', y_dev.shape)"
   ]
  },
  {
   "cell_type": "markdown",
   "metadata": {},
   "source": [
    "## Softmax Classifier\n",
    "\n",
    "Your code for this section will all be written inside **cs231n/classifiers/softmax.py**. \n"
   ]
  },
  {
   "cell_type": "code",
   "execution_count": 4,
   "metadata": {
    "collapsed": false
   },
   "outputs": [
    {
     "name": "stdout",
     "output_type": "stream",
     "text": [
      "loss: 2.348832\n",
      "sanity check: 2.302585\n"
     ]
    }
   ],
   "source": [
    "# First implement the naive softmax loss function with nested loops.\n",
    "# Open the file cs231n/classifiers/softmax.py and implement the\n",
    "# softmax_loss_naive function.\n",
    "\n",
    "from cs231n.classifiers.softmax import softmax_loss_naive\n",
    "import time\n",
    "\n",
    "# Generate a random softmax weight matrix and use it to compute the loss.\n",
    "W = np.random.randn(3073, 10) * 0.0001\n",
    "loss, grad = softmax_loss_naive(W, X_dev, y_dev, 0.0)\n",
    "\n",
    "# As a rough sanity check, our loss should be something close to -log(0.1).\n",
    "print('loss: %f' % loss)\n",
    "print('sanity check: %f' % (-np.log(0.1)))"
   ]
  },
  {
   "cell_type": "markdown",
   "metadata": {},
   "source": [
    "## Inline Question 1:\n",
    "Why do we expect our loss to be close to -log(0.1)? Explain briefly.**\n",
    "\n",
    "**Your answer:** Just like random guess with random weights\n"
   ]
  },
  {
   "cell_type": "code",
   "execution_count": 5,
   "metadata": {
    "collapsed": false
   },
   "outputs": [
    {
     "name": "stdout",
     "output_type": "stream",
     "text": [
      "numerical: -1.677529 analytic: -1.677529, relative error: 2.677885e-08\n",
      "numerical: -3.043176 analytic: -3.043176, relative error: 2.126953e-09\n",
      "numerical: 0.137687 analytic: 0.137687, relative error: 1.443405e-07\n",
      "numerical: 1.617696 analytic: 1.617696, relative error: 1.150790e-08\n",
      "numerical: 0.882363 analytic: 0.882363, relative error: 2.904289e-08\n",
      "numerical: -0.041731 analytic: -0.041731, relative error: 4.375264e-07\n",
      "numerical: -1.147292 analytic: -1.147292, relative error: 3.270775e-08\n",
      "numerical: 0.321471 analytic: 0.321471, relative error: 6.991791e-08\n",
      "numerical: 2.665929 analytic: 2.665929, relative error: 2.573738e-08\n",
      "numerical: 0.876034 analytic: 0.876034, relative error: 3.477909e-08\n",
      "numerical: 0.860440 analytic: 0.860440, relative error: 2.202378e-08\n",
      "numerical: -0.399640 analytic: -0.399640, relative error: 8.271666e-08\n",
      "numerical: -0.609921 analytic: -0.609921, relative error: 4.679481e-09\n",
      "numerical: 0.067393 analytic: 0.067393, relative error: 2.875948e-07\n",
      "numerical: -0.265929 analytic: -0.265930, relative error: 1.407901e-07\n",
      "numerical: 1.342867 analytic: 1.342867, relative error: 3.231604e-10\n",
      "numerical: 1.817731 analytic: 1.817731, relative error: 8.991388e-09\n",
      "numerical: 0.677272 analytic: 0.677271, relative error: 9.938036e-08\n",
      "numerical: -0.798687 analytic: -0.798687, relative error: 3.802023e-09\n",
      "numerical: -3.963005 analytic: -3.963005, relative error: 5.131570e-09\n"
     ]
    }
   ],
   "source": [
    "# Complete the implementation of softmax_loss_naive and implement a (naive)\n",
    "# version of the gradient that uses nested loops.\n",
    "loss, grad = softmax_loss_naive(W, X_dev, y_dev, 0.0)\n",
    "\n",
    "# As we did for the SVM, use numeric gradient checking as a debugging tool.\n",
    "# The numeric gradient should be close to the analytic gradient.\n",
    "from cs231n.gradient_check import grad_check_sparse\n",
    "f = lambda w: softmax_loss_naive(w, X_dev, y_dev, 0.0)[0]\n",
    "grad_numerical = grad_check_sparse(f, W, grad, 10)\n",
    "\n",
    "# similar to SVM case, do another gradient check with regularization\n",
    "loss, grad = softmax_loss_naive(W, X_dev, y_dev, 5e1)\n",
    "f = lambda w: softmax_loss_naive(w, X_dev, y_dev, 5e1)[0]\n",
    "grad_numerical = grad_check_sparse(f, W, grad, 10)"
   ]
  },
  {
   "cell_type": "code",
   "execution_count": 24,
   "metadata": {
    "collapsed": false
   },
   "outputs": [
    {
     "name": "stdout",
     "output_type": "stream",
     "text": [
      "naive loss: 2.348832e+00 computed in 0.111598s\n",
      "vectorized loss: 2.348832e+00 computed in 0.008893s\n",
      "Loss difference: 0.000000\n",
      "Gradient difference: 0.000000\n"
     ]
    }
   ],
   "source": [
    "# Now that we have a naive implementation of the softmax loss function and its gradient,\n",
    "# implement a vectorized version in softmax_loss_vectorized.\n",
    "# The two versions should compute the same results, but the vectorized version should be\n",
    "# much faster.\n",
    "tic = time.time()\n",
    "loss_naive, grad_naive = softmax_loss_naive(W, X_dev, y_dev, 0.000005)\n",
    "toc = time.time()\n",
    "print('naive loss: %e computed in %fs' % (loss_naive, toc - tic))\n",
    "\n",
    "from cs231n.classifiers.softmax import softmax_loss_vectorized\n",
    "tic = time.time()\n",
    "loss_vectorized, grad_vectorized = softmax_loss_vectorized(W, X_dev, y_dev, 0.000005)\n",
    "toc = time.time()\n",
    "print('vectorized loss: %e computed in %fs' % (loss_vectorized, toc - tic))\n",
    "\n",
    "# As we did for the SVM, we use the Frobenius norm to compare the two versions\n",
    "# of the gradient.\n",
    "grad_difference = np.linalg.norm(grad_naive - grad_vectorized, ord='fro')\n",
    "print('Loss difference: %f' % np.abs(loss_naive - loss_vectorized))\n",
    "print('Gradient difference: %f' % grad_difference)"
   ]
  },
  {
   "cell_type": "markdown",
   "metadata": {},
   "source": [
    "If you look at how these two algorithm update the dW, you will find out that how svm tend to work with only support vector while softmax is trying to reach global optimazation"
   ]
  },
  {
   "cell_type": "code",
   "execution_count": 30,
   "metadata": {
    "collapsed": false
   },
   "outputs": [
    {
     "name": "stdout",
     "output_type": "stream",
     "text": [
      "iteration 0 / 1500: loss 385.989566\n",
      "iteration 100 / 1500: loss 233.707484\n",
      "iteration 200 / 1500: loss 142.086694\n",
      "iteration 300 / 1500: loss 86.630848\n",
      "iteration 400 / 1500: loss 53.191869\n",
      "iteration 500 / 1500: loss 32.985470\n",
      "iteration 600 / 1500: loss 20.769797\n",
      "iteration 700 / 1500: loss 13.313537\n",
      "iteration 800 / 1500: loss 8.867678\n",
      "iteration 900 / 1500: loss 6.163694\n",
      "iteration 1000 / 1500: loss 4.597922\n",
      "iteration 1100 / 1500: loss 3.595654\n",
      "iteration 1200 / 1500: loss 2.963191\n",
      "iteration 1300 / 1500: loss 2.500010\n",
      "iteration 1400 / 1500: loss 2.362474\n",
      "That took 6.641958s\n",
      "iteration 0 / 1500: loss 787.592975\n",
      "iteration 100 / 1500: loss 289.408612\n",
      "iteration 200 / 1500: loss 107.194468\n",
      "iteration 300 / 1500: loss 40.586118\n",
      "iteration 400 / 1500: loss 16.133962\n",
      "iteration 500 / 1500: loss 7.210724\n",
      "iteration 600 / 1500: loss 3.954024\n",
      "iteration 700 / 1500: loss 2.786539\n",
      "iteration 800 / 1500: loss 2.339939\n",
      "iteration 900 / 1500: loss 2.195448\n",
      "iteration 1000 / 1500: loss 2.134838\n",
      "iteration 1100 / 1500: loss 2.124694\n",
      "iteration 1200 / 1500: loss 2.116182\n",
      "iteration 1300 / 1500: loss 2.006012\n",
      "iteration 1400 / 1500: loss 2.110778\n",
      "That took 6.613349s\n",
      "iteration 0 / 1500: loss 388.788379\n",
      "iteration 100 / 1500: loss 32.789419\n",
      "iteration 200 / 1500: loss 4.483198\n",
      "iteration 300 / 1500: loss 2.175484\n",
      "iteration 400 / 1500: loss 2.057075\n",
      "iteration 500 / 1500: loss 2.028295\n",
      "iteration 600 / 1500: loss 1.974961\n",
      "iteration 700 / 1500: loss 2.049760\n",
      "iteration 800 / 1500: loss 1.971150\n",
      "iteration 900 / 1500: loss 2.008633\n",
      "iteration 1000 / 1500: loss 2.002487\n",
      "iteration 1100 / 1500: loss 2.103368\n",
      "iteration 1200 / 1500: loss 2.042456\n",
      "iteration 1300 / 1500: loss 2.042374\n",
      "iteration 1400 / 1500: loss 2.043232\n",
      "That took 6.687537s\n",
      "iteration 0 / 1500: loss 774.558224\n",
      "iteration 100 / 1500: loss 6.947045\n",
      "iteration 200 / 1500: loss 2.098589\n",
      "iteration 300 / 1500: loss 2.131574\n",
      "iteration 400 / 1500: loss 2.140243\n",
      "iteration 500 / 1500: loss 2.102190\n",
      "iteration 600 / 1500: loss 2.049399\n",
      "iteration 700 / 1500: loss 2.108994\n",
      "iteration 800 / 1500: loss 2.130061\n",
      "iteration 900 / 1500: loss 2.140544\n",
      "iteration 1000 / 1500: loss 2.099719\n",
      "iteration 1100 / 1500: loss 2.079361\n",
      "iteration 1200 / 1500: loss 2.073554\n",
      "iteration 1300 / 1500: loss 2.123335\n",
      "iteration 1400 / 1500: loss 2.056597\n",
      "That took 6.697589s\n",
      "[(1e-07, 25000.0), (1e-07, 50000.0), (5e-07, 25000.0), (5e-07, 50000.0)]\n",
      "{(1e-07, 25000.0): (0.34855102040816327, 0.36299999999999999), (5e-07, 50000.0): (0.31040816326530613, 0.32500000000000001), (5e-07, 25000.0): (0.35036734693877553, 0.36099999999999999), (1e-07, 50000.0): (0.32863265306122447, 0.34599999999999997)}\n",
      "lr 1.000000e-07 reg 2.500000e+04 train accuracy: 0.348551 val accuracy: 0.363000\n",
      "lr 1.000000e-07 reg 5.000000e+04 train accuracy: 0.328633 val accuracy: 0.346000\n",
      "lr 5.000000e-07 reg 2.500000e+04 train accuracy: 0.350367 val accuracy: 0.361000\n",
      "lr 5.000000e-07 reg 5.000000e+04 train accuracy: 0.310408 val accuracy: 0.325000\n",
      "best validation accuracy achieved during cross-validation: 0.363000\n"
     ]
    }
   ],
   "source": [
    "# Use the validation set to tune hyperparameters (regularization strength and\n",
    "# learning rate). You should experiment with different ranges for the learning\n",
    "# rates and regularization strengths; if you are careful you should be able to\n",
    "# get a classification accuracy of over 0.35 on the validation set.\n",
    "from cs231n.classifiers import Softmax\n",
    "import itertools\n",
    "results = {}\n",
    "best_val = -1\n",
    "best_softmax = None\n",
    "learning_rates = [1e-7, 5e-7]\n",
    "regularization_strengths = [2.5e4, 5e4]\n",
    "\n",
    "################################################################################\n",
    "# TODO:                                                                        #\n",
    "# Use the validation set to set the learning rate and regularization strength. #\n",
    "# This should be identical to the validation that you did for the SVM; save    #\n",
    "# the best trained softmax classifer in best_softmax.                          #\n",
    "################################################################################\n",
    "Iter=1500\n",
    "for lr, reg in list(itertools.product(learning_rates, regularization_strengths)):\n",
    "    softmax = Softmax()\n",
    "    tic = time.time()\n",
    "    softmax.train(X_train, y_train, learning_rate=lr, reg=reg, num_iters=Iter, verbose=True)\n",
    "    toc = time.time()\n",
    "    print('That took %fs' % (toc - tic))\n",
    "    y_train_pred = softmax.predict(X_train)\n",
    "    y_train_value = np.mean(y_train == y_train_pred)\n",
    "    y_val_pred = softmax.predict(X_val)\n",
    "    y_val_value = np.mean(y_val == y_val_pred)\n",
    "    \n",
    "    results[(lr, reg)] = (y_train_value, y_val_value)\n",
    "    if y_val_value > best_val:\n",
    "        best_val = y_val_value\n",
    "        best_softmax = softmax\n",
    "    \n",
    "print(list(itertools.product(learning_rates, regularization_strengths)))\n",
    "print(results)\n",
    "################################################################################\n",
    "#                              END OF YOUR CODE                                #\n",
    "################################################################################\n",
    "    \n",
    "# Print out results.\n",
    "for lr, reg in sorted(results):\n",
    "    train_accuracy, val_accuracy = results[(lr, reg)]\n",
    "    print('lr %e reg %e train accuracy: %f val accuracy: %f' % (\n",
    "                lr, reg, train_accuracy, val_accuracy))\n",
    "    \n",
    "print('best validation accuracy achieved during cross-validation: %f' % best_val)"
   ]
  },
  {
   "cell_type": "code",
   "execution_count": 31,
   "metadata": {
    "collapsed": false
   },
   "outputs": [
    {
     "name": "stdout",
     "output_type": "stream",
     "text": [
      "softmax on raw pixels final test set accuracy: 0.358000\n"
     ]
    }
   ],
   "source": [
    "# evaluate on test set\n",
    "# Evaluate the best softmax on test set\n",
    "y_test_pred = best_softmax.predict(X_test)\n",
    "test_accuracy = np.mean(y_test == y_test_pred)\n",
    "print('softmax on raw pixels final test set accuracy: %f' % (test_accuracy, ))"
   ]
  },
  {
   "cell_type": "code",
   "execution_count": 32,
   "metadata": {
    "collapsed": false
   },
   "outputs": [
    {
     "data": {
      "image/png": "[encoded data removed]",
      "text/plain": [
       "<matplotlib.figure.Figure at 0x7f576c4de9d0>"
      ]
     },
     "metadata": {},
     "output_type": "display_data"
    }
   ],
   "source": [
    "# Visualize the learned weights for each class\n",
    "w = best_softmax.W[:-1,:] # strip out the bias\n",
    "w = w.reshape(32, 32, 3, 10)\n",
    "\n",
    "w_min, w_max = np.min(w), np.max(w)\n",
    "\n",
    "classes = ['plane', 'car', 'bird', 'cat', 'deer', 'dog', 'frog', 'horse', 'ship', 'truck']\n",
    "for i in range(10):\n",
    "    plt.subplot(2, 5, i + 1)\n",
    "    \n",
    "    # Rescale the weights to be between 0 and 255\n",
    "    wimg = 255.0 * (w[:, :, :, i].squeeze() - w_min) / (w_max - w_min)\n",
    "    plt.imshow(wimg.astype('uint8'))\n",
    "    plt.axis('off')\n",
    "    plt.title(classes[i])"
   ]
  }
 ],
 "metadata": {
  "kernelspec": {
   "display_name": "Python 2",
   "language": "python",
   "name": "python2"
  },
  "language_info": {
   "codemirror_mode": {
    "name": "ipython",
    "version": 2
   },
   "file_extension": ".py",
   "mimetype": "text/x-python",
   "name": "python",
   "nbconvert_exporter": "python",
   "pygments_lexer": "ipython2",
   "version": "2.7.12"
  }
 },
 "nbformat": 4,
 "nbformat_minor": 0
}
